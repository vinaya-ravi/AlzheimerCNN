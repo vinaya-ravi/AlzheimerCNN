{
 "cells": [
  {
   "cell_type": "code",
   "execution_count": null,
   "id": "b1c96962",
   "metadata": {
    "id": "b1c96962"
   },
   "outputs": [],
   "source": [
    "import warnings\n",
    "warnings.filterwarnings(\"ignore\")\n",
    "\n",
    "import os\n",
    "import shutil\n",
    "import numpy as np\n",
    "import tensorflow as tf\n",
    "from tensorflow.keras.preprocessing.image import ImageDataGenerator"
   ]
  },
  {
   "cell_type": "code",
   "execution_count": null,
   "id": "ec58542c",
   "metadata": {
    "id": "ec58542c"
   },
   "outputs": [],
   "source": [
    "dataset_path = \"input\"\n",
    "\n",
    "augmented_path = \"Augmented\""
   ]
  },
  {
   "cell_type": "code",
   "execution_count": null,
   "id": "454719e1",
   "metadata": {
    "id": "454719e1"
   },
   "outputs": [],
   "source": [
    "if augmented_path in os.listdir(\".\"):\n",
    "    shutil.rmtree(augmented_path)\n",
    "\n",
    "os.makedirs(augmented_path, exist_ok=True)"
   ]
  },
  {
   "cell_type": "code",
   "execution_count": null,
   "id": "68966e80",
   "metadata": {
    "id": "68966e80"
   },
   "outputs": [],
   "source": [
    "target_classes = [\"Moderate Dementia\"]\n",
    "max_size = 1500"
   ]
  },
  {
   "cell_type": "code",
   "execution_count": null,
   "id": "fb700510",
   "metadata": {
    "id": "fb700510"
   },
   "outputs": [],
   "source": [
    "datagen = ImageDataGenerator(\n",
    "        rotation_range=10,\n",
    "        width_shift_range=0.1,\n",
    "        height_shift_range=0.1,\n",
    "        zoom_range=0.1,\n",
    "        horizontal_flip=True,\n",
    "        vertical_flip=True,\n",
    "        fill_mode='constant'\n",
    "    )"
   ]
  },
  {
   "cell_type": "code",
   "execution_count": null,
   "id": "df944cc2",
   "metadata": {
    "colab": {
     "base_uri": "https://localhost:8080/"
    },
    "executionInfo": {
     "elapsed": 95891,
     "status": "ok",
     "timestamp": 1709206337998,
     "user": {
      "displayName": "phd india",
      "userId": "15133022939019148607"
     },
     "user_tz": -330
    },
    "id": "df944cc2",
    "outputId": "b93aee98-2b03-4046-ef98-234f7aecb91f"
   },
   "outputs": [
    {
     "name": "stdout",
     "output_type": "stream",
     "text": [
      "Data augmentation completed for Moderate Dementia.\n"
     ]
    }
   ],
   "source": [
    "for target_class in target_classes:\n",
    "    target_path = os.path.join(dataset_path, target_class)\n",
    "    augmented_target_path = os.path.join(augmented_path, target_class)\n",
    "\n",
    "    if not os.path.exists(augmented_target_path):\n",
    "        os.makedirs(augmented_target_path)\n",
    "\n",
    "    image_files = os.listdir(target_path)\n",
    "\n",
    "    num_augmented_images = max_size - len(image_files)\n",
    "\n",
    "    for i in range(num_augmented_images):\n",
    "        image_file = np.random.choice(image_files)\n",
    "        image_path = os.path.join(target_path, image_file)\n",
    "\n",
    "        img = tf.keras.preprocessing.image.load_img(image_path)\n",
    "        x = tf.keras.preprocessing.image.img_to_array(img)\n",
    "        x = np.expand_dims(x, axis=0)\n",
    "\n",
    "        aug_iter = datagen.flow(x, batch_size=1, save_to_dir=augmented_target_path,\n",
    "                                save_prefix=f'augmented_{i}', save_format='png')\n",
    "\n",
    "        aug_image = next(aug_iter)\n",
    "    for img_name in image_files:\n",
    "        in_path = os.path.join(dataset_path, target_class, img_name)\n",
    "        out_path = os.path.join(augmented_path, target_class, img_name)\n",
    "        shutil.copyfile(in_path, out_path)\n",
    "\n",
    "    print(f\"Data augmentation completed for {target_class}.\")"
   ]
  },
  {
   "cell_type": "code",
   "execution_count": null,
   "id": "V38-1_V2Xri0",
   "metadata": {
    "id": "V38-1_V2Xri0"
   },
   "outputs": [],
   "source": []
  }
 ],
 "metadata": {
  "colab": {
   "machine_shape": "hm",
   "provenance": []
  },
  "kernelspec": {
   "display_name": "Python 3",
   "language": "python",
   "name": "python3"
  },
  "language_info": {
   "codemirror_mode": {
    "name": "ipython",
    "version": 3
   },
   "file_extension": ".py",
   "mimetype": "text/x-python",
   "name": "python",
   "nbconvert_exporter": "python",
   "pygments_lexer": "ipython3",
   "version": "3.6.13"
  }
 },
 "nbformat": 4,
 "nbformat_minor": 5
}
